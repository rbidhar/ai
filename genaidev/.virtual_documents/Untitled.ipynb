from langchain.llms import Ollama


from langchain_community.chat_models import ChatOllama


from ollama import chat



