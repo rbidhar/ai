{
 "cells": [
  {
   "cell_type": "code",
   "execution_count": 1,
   "id": "cf82f009-a07e-4935-bf80-3a11594f23c3",
   "metadata": {},
   "outputs": [],
   "source": [
    "#import langchain module for ollama\n",
    "from langchain_ollama import ChatOllama"
   ]
  },
  {
   "cell_type": "code",
   "execution_count": 2,
   "id": "27f54048-7f53-4b35-9005-91de0a9cddf9",
   "metadata": {},
   "outputs": [],
   "source": [
    "#Create an object of ChatOllama using llama3 model\n",
    "#ollama pull llama3, ollama pull mistral\n",
    "llm=ChatOllama(model=\"llama3\")"
   ]
  },
  {
   "cell_type": "code",
   "execution_count": 5,
   "id": "77e9e131-9f88-4a50-be48-36a662de1ba8",
   "metadata": {},
   "outputs": [
    {
     "data": {
      "text/plain": [
       "AIMessage(content=\"The sky appears blue because of a phenomenon called Rayleigh scattering, which is the scattering of light by small particles or molecules in the atmosphere. Here's a simplified explanation:\\n\\n1. **Light from the sun**: When sunlight enters Earth's atmosphere, it contains all the colors of the visible spectrum (red, orange, yellow, green, blue, indigo, and violet).\\n2. **Interaction with gases**: As light travels through the atmosphere, it encounters tiny molecules of gases like nitrogen (N2) and oxygen (O2). These molecules are much smaller than the wavelength of light.\\n3. **Scattering occurs**: The smaller gas molecules scatter shorter (blue) wavelengths of light more than longer (red) wavelengths. This is because the blue light has a higher energy and is more easily deflected by the tiny molecules.\\n4. **Blue light dominates**: As the scattered blue light reaches our eyes, it appears more intense and dominant over the other colors, making the sky appear blue.\\n\\nSome additional factors that contribute to the blue color of the sky:\\n\\n* **Dust and water vapor**: Tiny particles in the atmosphere, such as dust and water vapor, can also scatter light and enhance the blue color.\\n* **Atmospheric conditions**: The color of the sky can change depending on atmospheric conditions like pollution, smoke, or aerosols, which can scatter light in different ways.\\n* **Observer's perspective**: The apparent blue color of the sky can vary depending on the observer's location, altitude, and angle of view.\\n\\nSo, to summarize: the sky appears blue because of the scattering of sunlight by tiny molecules in the atmosphere, with shorter wavelengths (like blue) being scattered more than longer wavelengths (like red).\", additional_kwargs={}, response_metadata={'model': 'llama3', 'created_at': '2025-02-05T01:16:03.275816Z', 'done': True, 'done_reason': 'stop', 'total_duration': 29240645000, 'load_duration': 34433375, 'prompt_eval_count': 16, 'prompt_eval_duration': 405000000, 'eval_count': 347, 'eval_duration': 28799000000, 'message': Message(role='assistant', content='', images=None, tool_calls=None)}, id='run-5d5f788f-8a24-4aa3-9b60-7bf9c10363a6-0', usage_metadata={'input_tokens': 16, 'output_tokens': 347, 'total_tokens': 363})"
      ]
     },
     "execution_count": 5,
     "metadata": {},
     "output_type": "execute_result"
    }
   ],
   "source": [
    "#Prepare the Question and Pass to the llm object\n",
    "question = 'why is the sky blue?'\n",
    "response = llm.invoke(question)\n",
    "response"
   ]
  },
  {
   "cell_type": "markdown",
   "id": "2df30239-173c-4e67-a1ee-5fb8a4429373",
   "metadata": {},
   "source": [
    "# Using ChatGPT"
   ]
  },
  {
   "cell_type": "code",
   "execution_count": 10,
   "id": "49df840f-eba1-4f5a-ae05-7b02ea2b4e56",
   "metadata": {},
   "outputs": [],
   "source": [
    "# import \n",
    "from decouple import config\n",
    "from langchain_openai import ChatOpenAI\n",
    "from dotenv import load_dotenv\n",
    "from openai import OpenAI\n",
    "import os"
   ]
  },
  {
   "cell_type": "code",
   "execution_count": 19,
   "id": "b5117893-c68f-4e14-8cb1-df836339c680",
   "metadata": {},
   "outputs": [],
   "source": [
    "# Load environment variables from the .env file\n",
    "load_dotenv()\n",
    "\n",
    "# Initialize OpenAI client with the API key from environment variables\n",
    "client = OpenAI(\n",
    "    api_key=os.getenv(\"OPENAI_KEY\"),\n",
    ")"
   ]
  },
  {
   "cell_type": "code",
   "execution_count": 20,
   "id": "5826615f-7602-431f-b98a-b12eee437b95",
   "metadata": {},
   "outputs": [],
   "source": [
    "#Create an object of ChatOpenAI\n",
    "llm_openai = ChatOpenAI(model=\"gpt-4o\", api_key=client.api_key)"
   ]
  },
  {
   "cell_type": "code",
   "execution_count": 21,
   "id": "5a68e1f6-c43b-409a-9306-69b8b7299b1d",
   "metadata": {},
   "outputs": [
    {
     "data": {
      "text/plain": [
       "AIMessage(content=\"The sky appears blue primarily because of a phenomenon called Rayleigh scattering. Here's a simplified explanation:\\n\\n1. **Scattering of Light**: Sunlight, although it appears white, is composed of a range of colors, each with different wavelengths. When sunlight enters the Earth's atmosphere, it collides with molecules and small particles in the air.\\n\\n2. **Wavelength Dependence**: Shorter wavelengths of light (blue and violet) are scattered more than longer wavelengths (red and yellow). This is because shorter wavelengths are smaller and more easily deflected by atmospheric particles.\\n\\n3. **Human Perception**: Although violet light is scattered more than blue, our eyes are more sensitive to blue light and less sensitive to violet. Additionally, some of the violet light is absorbed by the upper atmosphere.\\n\\n4. **Resulting Blue Sky**: The excess scattering of blue light compared to other colors is why we perceive the sky as blue during the day.\\n\\nThis explanation is rooted in the physics of light and interactions within our atmosphere, leading to the blue sky we observe on clear days.\", additional_kwargs={'refusal': None}, response_metadata={'token_usage': {'completion_tokens': 217, 'prompt_tokens': 13, 'total_tokens': 230, 'completion_tokens_details': {'accepted_prediction_tokens': 0, 'audio_tokens': 0, 'reasoning_tokens': 0, 'rejected_prediction_tokens': 0}, 'prompt_tokens_details': {'audio_tokens': 0, 'cached_tokens': 0}}, 'model_name': 'gpt-4o-2024-08-06', 'system_fingerprint': 'fp_4691090a87', 'finish_reason': 'stop', 'logprobs': None}, id='run-d58cee86-9089-4ca0-afac-60297d73300c-0', usage_metadata={'input_tokens': 13, 'output_tokens': 217, 'total_tokens': 230, 'input_token_details': {'audio': 0, 'cache_read': 0}, 'output_token_details': {'audio': 0, 'reasoning': 0}})"
      ]
     },
     "execution_count": 21,
     "metadata": {},
     "output_type": "execute_result"
    }
   ],
   "source": [
    "#Prepare the Question and Pass to the llm object\n",
    "question = 'why is the sky blue?'\n",
    "response = llm_openai.invoke(question)\n",
    "response"
   ]
  },
  {
   "cell_type": "code",
   "execution_count": null,
   "id": "6bd2c1e9-7ec8-4f7d-b244-0a644cd09166",
   "metadata": {},
   "outputs": [],
   "source": []
  }
 ],
 "metadata": {
  "kernelspec": {
   "display_name": "Python 3 (ipykernel)",
   "language": "python",
   "name": "python3"
  },
  "language_info": {
   "codemirror_mode": {
    "name": "ipython",
    "version": 3
   },
   "file_extension": ".py",
   "mimetype": "text/x-python",
   "name": "python",
   "nbconvert_exporter": "python",
   "pygments_lexer": "ipython3",
   "version": "3.12.7"
  }
 },
 "nbformat": 4,
 "nbformat_minor": 5
}
