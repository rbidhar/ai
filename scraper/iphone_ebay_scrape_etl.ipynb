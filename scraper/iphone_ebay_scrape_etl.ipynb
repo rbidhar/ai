{
 "cells": [
  {
   "cell_type": "code",
   "execution_count": 24,
   "id": "4bfaf7d2-5e60-44ce-9bda-e3b872c95911",
   "metadata": {},
   "outputs": [],
   "source": [
    "import pandas as pd\n",
    "import re"
   ]
  },
  {
   "cell_type": "markdown",
   "id": "5ad6e3e9-eb52-4244-9af8-4eed04d977c1",
   "metadata": {},
   "source": [
    "## Load the raw csv"
   ]
  },
  {
   "cell_type": "code",
   "execution_count": 25,
   "id": "3d5b2966-c982-4bc4-8291-127c81734ff0",
   "metadata": {},
   "outputs": [],
   "source": [
    "# load .csv as dataframe\n",
    "df = pd.read_csv(\"data/iphone_data.csv\")"
   ]
  },
  {
   "cell_type": "code",
   "execution_count": 26,
   "id": "41772c73-f325-4123-b30a-b8a2a162ed05",
   "metadata": {},
   "outputs": [
    {
     "data": {
      "text/html": [
       "<div>\n",
       "<style scoped>\n",
       "    .dataframe tbody tr th:only-of-type {\n",
       "        vertical-align: middle;\n",
       "    }\n",
       "\n",
       "    .dataframe tbody tr th {\n",
       "        vertical-align: top;\n",
       "    }\n",
       "\n",
       "    .dataframe thead th {\n",
       "        text-align: right;\n",
       "    }\n",
       "</style>\n",
       "<table border=\"1\" class=\"dataframe\">\n",
       "  <thead>\n",
       "    <tr style=\"text-align: right;\">\n",
       "      <th></th>\n",
       "      <th>Title</th>\n",
       "      <th>Price</th>\n",
       "      <th>Link</th>\n",
       "      <th>Image Link</th>\n",
       "    </tr>\n",
       "  </thead>\n",
       "  <tbody>\n",
       "    <tr>\n",
       "      <th>0</th>\n",
       "      <td>New ListingiPhone 11 With Tik Tok Installed</td>\n",
       "      <td>$400.00</td>\n",
       "      <td>https://www.ebay.com/itm/167269146017</td>\n",
       "      <td>https://i.ebayimg.com/images/g/RT0AAOSwtb9nkZg...</td>\n",
       "    </tr>\n",
       "    <tr>\n",
       "      <th>1</th>\n",
       "      <td>New ListingiPhone 14 Pro Max Purple W/TikTok</td>\n",
       "      <td>$300.00</td>\n",
       "      <td>https://www.ebay.com/itm/405496183631</td>\n",
       "      <td>https://i.ebayimg.com/images/g/z9IAAOSwBXpnkZd...</td>\n",
       "    </tr>\n",
       "    <tr>\n",
       "      <th>2</th>\n",
       "      <td>New ListingiPhone XS (HAS TIK TOK) for influen...</td>\n",
       "      <td>$200.00</td>\n",
       "      <td>https://www.ebay.com/itm/387850544091</td>\n",
       "      <td>https://i.ebayimg.com/images/g/M-oAAOSwww9nkZa...</td>\n",
       "    </tr>\n",
       "    <tr>\n",
       "      <th>3</th>\n",
       "      <td>New ListingApple iPhone 14 Pro Max WITH TIKTOK...</td>\n",
       "      <td>$250.00</td>\n",
       "      <td>https://www.ebay.com/itm/396143814039</td>\n",
       "      <td>https://i.ebayimg.com/images/g/U6MAAOSwj6dnkZc...</td>\n",
       "    </tr>\n",
       "    <tr>\n",
       "      <th>4</th>\n",
       "      <td>New ListingApple iPhone 12 Pro With Tik Tok &amp; ...</td>\n",
       "      <td>$400.00</td>\n",
       "      <td>https://www.ebay.com/itm/126897829682</td>\n",
       "      <td>https://i.ebayimg.com/images/g/qWcAAOSw1WtnkZX...</td>\n",
       "    </tr>\n",
       "  </tbody>\n",
       "</table>\n",
       "</div>"
      ],
      "text/plain": [
       "                                               Title    Price  \\\n",
       "0       New ListingiPhone 11 With Tik Tok Installed   $400.00   \n",
       "1       New ListingiPhone 14 Pro Max Purple W/TikTok  $300.00   \n",
       "2  New ListingiPhone XS (HAS TIK TOK) for influen...  $200.00   \n",
       "3  New ListingApple iPhone 14 Pro Max WITH TIKTOK...  $250.00   \n",
       "4  New ListingApple iPhone 12 Pro With Tik Tok & ...  $400.00   \n",
       "\n",
       "                                    Link  \\\n",
       "0  https://www.ebay.com/itm/167269146017   \n",
       "1  https://www.ebay.com/itm/405496183631   \n",
       "2  https://www.ebay.com/itm/387850544091   \n",
       "3  https://www.ebay.com/itm/396143814039   \n",
       "4  https://www.ebay.com/itm/126897829682   \n",
       "\n",
       "                                          Image Link  \n",
       "0  https://i.ebayimg.com/images/g/RT0AAOSwtb9nkZg...  \n",
       "1  https://i.ebayimg.com/images/g/z9IAAOSwBXpnkZd...  \n",
       "2  https://i.ebayimg.com/images/g/M-oAAOSwww9nkZa...  \n",
       "3  https://i.ebayimg.com/images/g/U6MAAOSwj6dnkZc...  \n",
       "4  https://i.ebayimg.com/images/g/qWcAAOSw1WtnkZX...  "
      ]
     },
     "execution_count": 26,
     "metadata": {},
     "output_type": "execute_result"
    }
   ],
   "source": [
    "df.head()"
   ]
  },
  {
   "cell_type": "markdown",
   "id": "c85c2347-4dc7-4536-8247-27d0f6583990",
   "metadata": {},
   "source": [
    "## Check the Shape and Remove Dups based on Title"
   ]
  },
  {
   "cell_type": "code",
   "execution_count": 27,
   "id": "c83ce8f1-23ab-43e4-9b41-bb79ba340975",
   "metadata": {},
   "outputs": [
    {
     "name": "stdout",
     "output_type": "stream",
     "text": [
      "Original shape: (480, 4)\n",
      "Duplicates dropped: (462, 4)\n"
     ]
    }
   ],
   "source": [
    "# drop duplicate JDs\n",
    "print(\"Original shape:\", df.shape)\n",
    "df = df.drop_duplicates(subset=\"Title\")\n",
    "print(\"Duplicates dropped:\", df.shape)"
   ]
  },
  {
   "cell_type": "markdown",
   "id": "8a86b6d7-d825-4523-ae6f-2f31485ab459",
   "metadata": {},
   "source": [
    "## Add 3 features for the Trainer job. Also Change the Price to int datatype"
   ]
  },
  {
   "cell_type": "code",
   "execution_count": 28,
   "id": "38982358-0bd0-4d5d-bad6-febaff09df5a",
   "metadata": {},
   "outputs": [],
   "source": [
    "df[\"is_new\"] = df[\"Title\"].str.contains('New').astype(int)\n",
    "df[\"is_unlocked\"] = df[\"Title\"].str.contains('Unlocked').astype(int)\n",
    "df[\"is_latest_model\"] = df[\"Title\"].apply(str.lower).apply(lambda x: x[x.find('iphone') + 7:x.find('iphone') + 9]).apply(lambda x: 1 if x in ('13', '15') else 0)\n",
    "df[\"Price\"] = df[\"Price\"].str.replace('$', '').astype(float).astype(int)"
   ]
  },
  {
   "cell_type": "code",
   "execution_count": 35,
   "id": "10e1a7bb-2364-4b1a-9b0a-0e8ea611da43",
   "metadata": {},
   "outputs": [
    {
     "name": "stdout",
     "output_type": "stream",
     "text": [
      "After adding features dropped: (462, 7)\n"
     ]
    }
   ],
   "source": [
    "print(\"After adding features dropped:\", df.shape)"
   ]
  },
  {
   "cell_type": "markdown",
   "id": "9f68048c-3c04-48b7-a07c-c5f6983a910f",
   "metadata": {},
   "source": [
    "## Create a dataframe with 4 columns only. 3 Features and 1 Target"
   ]
  },
  {
   "cell_type": "code",
   "execution_count": 32,
   "id": "e082f961-1d54-475d-9d65-b39cc2a0ad69",
   "metadata": {},
   "outputs": [],
   "source": [
    "transformed_df = df[['is_new', 'is_latest_model', 'is_unlocked', 'Price']].copy()"
   ]
  },
  {
   "cell_type": "code",
   "execution_count": 33,
   "id": "cf72c3fd-5df8-4257-80f3-d028c90e55c1",
   "metadata": {},
   "outputs": [
    {
     "data": {
      "text/html": [
       "<div>\n",
       "<style scoped>\n",
       "    .dataframe tbody tr th:only-of-type {\n",
       "        vertical-align: middle;\n",
       "    }\n",
       "\n",
       "    .dataframe tbody tr th {\n",
       "        vertical-align: top;\n",
       "    }\n",
       "\n",
       "    .dataframe thead th {\n",
       "        text-align: right;\n",
       "    }\n",
       "</style>\n",
       "<table border=\"1\" class=\"dataframe\">\n",
       "  <thead>\n",
       "    <tr style=\"text-align: right;\">\n",
       "      <th></th>\n",
       "      <th>is_new</th>\n",
       "      <th>is_latest_model</th>\n",
       "      <th>is_unlocked</th>\n",
       "      <th>Price</th>\n",
       "    </tr>\n",
       "  </thead>\n",
       "  <tbody>\n",
       "    <tr>\n",
       "      <th>0</th>\n",
       "      <td>1</td>\n",
       "      <td>0</td>\n",
       "      <td>0</td>\n",
       "      <td>400</td>\n",
       "    </tr>\n",
       "    <tr>\n",
       "      <th>1</th>\n",
       "      <td>1</td>\n",
       "      <td>0</td>\n",
       "      <td>0</td>\n",
       "      <td>300</td>\n",
       "    </tr>\n",
       "    <tr>\n",
       "      <th>2</th>\n",
       "      <td>1</td>\n",
       "      <td>0</td>\n",
       "      <td>0</td>\n",
       "      <td>200</td>\n",
       "    </tr>\n",
       "    <tr>\n",
       "      <th>3</th>\n",
       "      <td>1</td>\n",
       "      <td>0</td>\n",
       "      <td>1</td>\n",
       "      <td>250</td>\n",
       "    </tr>\n",
       "    <tr>\n",
       "      <th>4</th>\n",
       "      <td>1</td>\n",
       "      <td>0</td>\n",
       "      <td>0</td>\n",
       "      <td>400</td>\n",
       "    </tr>\n",
       "    <tr>\n",
       "      <th>...</th>\n",
       "      <td>...</td>\n",
       "      <td>...</td>\n",
       "      <td>...</td>\n",
       "      <td>...</td>\n",
       "    </tr>\n",
       "    <tr>\n",
       "      <th>475</th>\n",
       "      <td>0</td>\n",
       "      <td>0</td>\n",
       "      <td>0</td>\n",
       "      <td>250</td>\n",
       "    </tr>\n",
       "    <tr>\n",
       "      <th>476</th>\n",
       "      <td>0</td>\n",
       "      <td>0</td>\n",
       "      <td>1</td>\n",
       "      <td>255</td>\n",
       "    </tr>\n",
       "    <tr>\n",
       "      <th>477</th>\n",
       "      <td>1</td>\n",
       "      <td>1</td>\n",
       "      <td>1</td>\n",
       "      <td>335</td>\n",
       "    </tr>\n",
       "    <tr>\n",
       "      <th>478</th>\n",
       "      <td>0</td>\n",
       "      <td>0</td>\n",
       "      <td>0</td>\n",
       "      <td>200</td>\n",
       "    </tr>\n",
       "    <tr>\n",
       "      <th>479</th>\n",
       "      <td>1</td>\n",
       "      <td>1</td>\n",
       "      <td>0</td>\n",
       "      <td>225</td>\n",
       "    </tr>\n",
       "  </tbody>\n",
       "</table>\n",
       "<p>462 rows × 4 columns</p>\n",
       "</div>"
      ],
      "text/plain": [
       "     is_new  is_latest_model  is_unlocked  Price\n",
       "0         1                0            0    400\n",
       "1         1                0            0    300\n",
       "2         1                0            0    200\n",
       "3         1                0            1    250\n",
       "4         1                0            0    400\n",
       "..      ...              ...          ...    ...\n",
       "475       0                0            0    250\n",
       "476       0                0            1    255\n",
       "477       1                1            1    335\n",
       "478       0                0            0    200\n",
       "479       1                1            0    225\n",
       "\n",
       "[462 rows x 4 columns]"
      ]
     },
     "execution_count": 33,
     "metadata": {},
     "output_type": "execute_result"
    }
   ],
   "source": [
    "transformed_df"
   ]
  },
  {
   "cell_type": "markdown",
   "id": "1a6c9118-a0d3-48d1-9670-865198e249a6",
   "metadata": {},
   "source": [
    "## Export as csv for ML Model"
   ]
  },
  {
   "cell_type": "code",
   "execution_count": 38,
   "id": "b9019431-1454-4e6b-8cf1-1e4dbb689378",
   "metadata": {},
   "outputs": [],
   "source": [
    "# simply save data as a .csv file\n",
    "transformed_df.to_csv(\"data/iphone_data_transformed.csv\", index=False)"
   ]
  },
  {
   "cell_type": "code",
   "execution_count": null,
   "id": "6486162b-e630-46ed-8a71-0377251e2a6e",
   "metadata": {},
   "outputs": [],
   "source": []
  }
 ],
 "metadata": {
  "kernelspec": {
   "display_name": "Python 3 (ipykernel)",
   "language": "python",
   "name": "python3"
  },
  "language_info": {
   "codemirror_mode": {
    "name": "ipython",
    "version": 3
   },
   "file_extension": ".py",
   "mimetype": "text/x-python",
   "name": "python",
   "nbconvert_exporter": "python",
   "pygments_lexer": "ipython3",
   "version": "3.12.7"
  }
 },
 "nbformat": 4,
 "nbformat_minor": 5
}
