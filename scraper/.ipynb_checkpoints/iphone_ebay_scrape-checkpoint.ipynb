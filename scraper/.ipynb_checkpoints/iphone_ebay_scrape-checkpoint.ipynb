{
 "cells": [
  {
   "cell_type": "code",
   "execution_count": 12,
   "id": "d3a5cb76-8960-4d3c-8ed1-2a0592875f17",
   "metadata": {},
   "outputs": [],
   "source": [
    "import requests\n",
    "from bs4 import BeautifulSoup\n",
    "import pandas as pd\n",
    "import csv"
   ]
  },
  {
   "cell_type": "code",
   "execution_count": 2,
   "id": "691d68b8-b8df-4313-8af4-a5d9fa74fd27",
   "metadata": {},
   "outputs": [],
   "source": [
    "filters = {\n",
    "    \"item_conditions\": {\n",
    "        \"New\": 1000,\n",
    "        \"Open box\": 1500,\n",
    "        \"Used\": 3000,\n",
    "        \"Certified Refurbished\": 2000,\n",
    "        \"Excellent - Refurbished\": 2500,\n",
    "        \"Very Good\": 3000,\n",
    "        \"Good\": 4000,\n",
    "        \"For Parts or Not Working\": 7000\n",
    "    },\n",
    "    \"item_locations\": {\n",
    "        \"Domestic\": 1,\n",
    "        \"International\": 2,\n",
    "        \"Continent\": 3,\n",
    "    },\n",
    "    \"directories\": {\n",
    "        \"No Directory\": 0,\n",
    "        \"Consumer Electronics\": 9355,\n",
    "        \"Clothing, Shoes & Accessories\": 11450,\n",
    "        \"Health & Beauty\": 26395,\n",
    "        \"Home & Garden\": 11700,\n",
    "        \"Sporting Goods\": 382,\n",
    "        \"Toys & Hobbies\": 220,\n",
    "        \"Books\": 267,\n",
    "        \"Video Games & Consoles\": 1249,\n",
    "        \"Collectibles\": 1,\n",
    "        \"Business & Industrial\": 12576,\n",
    "        \"Automotive\": 6000, \n",
    "    },\n",
    "    \"categories\": {\n",
    "        \"No Category\": 0,\n",
    "        \"Cell Phones & Smartphones\": 9355,\n",
    "        \"Laptops & Netbooks\": 175673,\n",
    "        \"Watches\": 31387,\n",
    "        \"Furniture\": 3197,\n",
    "        \"Action Figures\": 2605,\n",
    "        \"Jewelry & Watches\": 281,\n",
    "        \"Cameras & Photo\": 625,\n",
    "        \"Pet Supplies\": 1281,\n",
    "        \"Crafts\": 14339,\n",
    "        \"Computers/Tablets & Networking\": 58058,\n",
    "        \"Cars & Trucks\": 6001,  \n",
    "        \"Motorcycles\": 6024,  \n",
    "        \"Car & Truck Parts\": 6030,  \n",
    "        \"Motorcycle Parts\": 10063,  \n",
    "        \"Automotive Tools & Supplies\": 34998,  \n",
    "    },\n",
    "    \"sort_order\": {\n",
    "        \"Best Match\": 12,\n",
    "        \"Time: ending soonest\": 1,\n",
    "        \"Time: newly listed\": 10,\n",
    "        \"Price + Shipping: lowest first\": 15,\n",
    "        \"Price + Shipping: highest first\": 16,\n",
    "        \"Distance: nearest first\": 7\n",
    "    }\n",
    "}"
   ]
  },
  {
   "cell_type": "code",
   "execution_count": 3,
   "id": "457fd99d-a1fe-417c-b264-09d9b4bde19f",
   "metadata": {},
   "outputs": [],
   "source": [
    "# Define the base URL for the eBay search\n",
    "url = \"https://www.ebay.com/sch/i.html\"\n",
    "\n",
    "# Define the query parameters for the search request\n",
    "params = {\n",
    "    '_from': 'R40',\n",
    "    '_nkw': 'iphone',\n",
    "    'Brand': 'Apple',\n",
    "    'LH_ItemCondition': filters[\"item_conditions\"][\"Used\"],  # Item condition; 'New'.\n",
    "    'LH_PrefLoc': filters[\"item_locations\"][\"Domestic\"],\n",
    "    '_udlo': '200',  # Minimum price.\n",
    "    '_udhi': '400',  # Maximum price.\n",
    "    '_dcat': filters[\"directories\"][\"No Directory\"],  # Filter by directory ID; \"Consumer Electronics\".\n",
    "    '_sacat': filters[\"categories\"][\"No Category\"],  # Filter by category ID; \"Cell Phones & Smartphones\".\n",
    "    '_sop': filters[\"sort_order\"][\"Time: newly listed\"],  # Sort by \"Time: newly listed\"\n",
    "    'LH_Sold': '0',  # Only sold listings (='1').\n",
    "    #'LH_Complete': '1',  # Only completed listings (='1').\n",
    "    'LH_BIN': '0',  # Only Buy It Now listings (='1').\n",
    "    'LH_Auction': '1',  # Only Auction Listings (='1').\n",
    "    'LH_BO': '0',  # Only listings that accept offers (='1').\n",
    "    'LH_FS': '0',  # Only Free Shipping listings (='1').\n",
    "    '_ipg': '240',  # Number of items per page (='1'), Max is 240.\n",
    "    'rt': 'nc'  # Result type; 'nc' indicates no cache to ensure the search results are fresh. \n",
    "    \n",
    "}"
   ]
  },
  {
   "cell_type": "code",
   "execution_count": 5,
   "id": "44adf62f-8e52-4116-8bcb-02177f900fe8",
   "metadata": {},
   "outputs": [
    {
     "name": "stdout",
     "output_type": "stream",
     "text": [
      "https://www.ebay.com/sch/i.html?_from=R40&_nkw=iphone&Brand=Apple&LH_ItemCondition=3000&LH_PrefLoc=1&_udlo=200&_udhi=400&_dcat=0&_sacat=0&_sop=10&LH_Sold=0&LH_BIN=0&LH_Auction=1&LH_BO=0&LH_FS=0&_ipg=240&rt=nc\n"
     ]
    }
   ],
   "source": [
    "# Create a prepared request to inspect the full URL\n",
    "request  =requests.Request('GET', url, params=params)\n",
    "prepared_request = request.prepare()\n",
    "print(prepared_request.url)"
   ]
  },
  {
   "cell_type": "code",
   "execution_count": 6,
   "id": "b549dd47-bb16-4815-bcb5-32db2a175304",
   "metadata": {},
   "outputs": [
    {
     "name": "stdout",
     "output_type": "stream",
     "text": [
      "Scraping page: 1\n",
      "https://www.ebay.com/sch/i.html?_from=R40&_nkw=iphone&Brand=Apple&LH_ItemCondition=3000&LH_PrefLoc=1&_udlo=200&_udhi=400&_dcat=0&_sacat=0&_sop=10&LH_Sold=0&LH_BIN=0&LH_Auction=1&LH_BO=0&LH_FS=0&_ipg=240&rt=nc\n",
      "Scraping page: 2\n",
      "https://www.ebay.com/sch/i.html?_from=R40&_nkw=iphone&Brand=Apple&LH_ItemCondition=3000&LH_PrefLoc=1&_udlo=200&_udhi=400&_dcat=0&_sacat=0&_sop=10&LH_Sold=0&LH_BIN=0&LH_Auction=1&LH_BO=0&LH_FS=0&_ipg=240&rt=nc&_pgn=1\n",
      "Scraping page: 3\n",
      "https://www.ebay.com/sch/i.html?_from=R40&_nkw=iphone&Brand=Apple&LH_ItemCondition=3000&LH_PrefLoc=1&_udlo=200&_udhi=400&_dcat=0&_sacat=0&_sop=10&LH_Sold=0&LH_BIN=0&LH_Auction=1&LH_BO=0&LH_FS=0&_ipg=240&rt=nc&_pgn=2\n",
      "No more pages pages to scrape\n"
     ]
    }
   ],
   "source": [
    "# Initialize variables\n",
    "page_number = 0\n",
    "items_list = []\n",
    "\n",
    "# Loop over pages\n",
    "while True:\n",
    "    \n",
    "    page_number += 1\n",
    "    \n",
    "    print(f'Scraping page: {page_number}')\n",
    "    request  =requests.Request('GET', url, params=params)\n",
    "    prepared_request = request.prepare()\n",
    "    print(prepared_request.url)\n",
    "          \n",
    "    params['_pgn'] = page_number\n",
    "    \n",
    "    # Send GET request to eBay with the defined parameters\n",
    "    response  = requests.get(url, params=params)\n",
    "    html_content = response.text # Get the HTML content of the page\n",
    "    \n",
    "    # Parse the HTML content using BeautifulSoup\n",
    "    soup = BeautifulSoup(html_content, 'html.parser')\n",
    "          \n",
    "    # Find the next button\n",
    "    next_button = soup.find('button', class_='pagination__next', type='next')\n",
    "  \n",
    "    # Check if the next button is disabled\n",
    "    if next_button and next_button.get('aria-disabled') == 'true':\n",
    "        print('No more pages pages to scrape')\n",
    "        break\n",
    "    else:\n",
    "        # Extract items\n",
    "        items = soup.find_all('div', class_='s-item__wrapper clearfix')\n",
    "\n",
    "        # Extract Listings\n",
    "        for item in items [2:]:\n",
    "            title = item.find('div', class_='s-item__title').text\n",
    "            price = item.find('span', class_='s-item__price').text\n",
    "            link = item.find('a', class_='s-item__link')['href'].split('?')[0]\n",
    "            image_url = item.find('div', class_='s-item__image-wrapper image-treatment').find('img').get('src','No image URL')\n",
    "\n",
    "            # Define each item as a dictionary\n",
    "            item_dict = {\n",
    "                'Title': title,\n",
    "                'Price': price,\n",
    "                'Link': link,\n",
    "                'Image Link': image_url\n",
    "            }\n",
    "\n",
    "            # Append the dictionary to the list\n",
    "            items_list.append(item_dict)"
   ]
  },
  {
   "cell_type": "code",
   "execution_count": 7,
   "id": "78f39249-de1d-4a5c-a321-a508f7b16d74",
   "metadata": {},
   "outputs": [
    {
     "data": {
      "text/plain": [
       "480"
      ]
     },
     "execution_count": 7,
     "metadata": {},
     "output_type": "execute_result"
    }
   ],
   "source": [
    "len(items_list)"
   ]
  },
  {
   "cell_type": "code",
   "execution_count": 8,
   "id": "2dbde686-b790-4dd9-9572-8c4ee8cb8335",
   "metadata": {},
   "outputs": [],
   "source": [
    "items_df = pd.DataFrame(items_list)"
   ]
  },
  {
   "cell_type": "code",
   "execution_count": 28,
   "id": "d7f1f909-1dd5-46a9-b1f3-bdc0f2fc881b",
   "metadata": {},
   "outputs": [
    {
     "data": {
      "text/plain": [
       "0       True\n",
       "1       True\n",
       "2       True\n",
       "3       True\n",
       "4       True\n",
       "       ...  \n",
       "475    False\n",
       "476    False\n",
       "477     True\n",
       "478    False\n",
       "479     True\n",
       "Name: Title, Length: 480, dtype: bool"
      ]
     },
     "execution_count": 28,
     "metadata": {},
     "output_type": "execute_result"
    }
   ],
   "source": [
    "items_df[\"Title\"].str.contains('New')"
   ]
  },
  {
   "cell_type": "code",
   "execution_count": 30,
   "id": "c6e620aa-79e5-40fa-9969-26130d0402ce",
   "metadata": {},
   "outputs": [
    {
     "data": {
      "text/plain": [
       "0      False\n",
       "1      False\n",
       "2      False\n",
       "3       True\n",
       "4      False\n",
       "       ...  \n",
       "475    False\n",
       "476     True\n",
       "477     True\n",
       "478    False\n",
       "479    False\n",
       "Name: Title, Length: 480, dtype: bool"
      ]
     },
     "execution_count": 30,
     "metadata": {},
     "output_type": "execute_result"
    }
   ],
   "source": [
    "items_df[\"Title\"].str.contains('Unlocked')"
   ]
  },
  {
   "cell_type": "code",
   "execution_count": 56,
   "id": "7a7b7e68-bbee-44aa-bc7b-a618917c904c",
   "metadata": {},
   "outputs": [
    {
     "data": {
      "text/plain": [
       "0      11\n",
       "1      14\n",
       "2      XS\n",
       "3      14\n",
       "4      12\n",
       "       ..\n",
       "475    Wo\n",
       "476    14\n",
       "477    13\n",
       "478     1\n",
       "479    st\n",
       "Name: Title, Length: 480, dtype: object"
      ]
     },
     "execution_count": 56,
     "metadata": {},
     "output_type": "execute_result"
    }
   ],
   "source": [
    "items_df[\"Title\"].apply(lambda x: x[x.find('iPhone') + 7:x.find('iPhone') + 9])\n",
    "#a = \"Apple iPhone 13 256GB Blue Locked To AT&T ….. Slightly Used ￼With 2 Phone Cases\"\n",
    "#start = a.find(\"iPhone\") + 8\n",
    "#a.substring(start,2)\n"
   ]
  },
  {
   "cell_type": "code",
   "execution_count": 24,
   "id": "9f16687e-26af-48c6-a320-1e83f2cde2a4",
   "metadata": {},
   "outputs": [],
   "source": [
    "items_df.to_csv(\"data/iphone_data.csv\", encoding='utf-8', index=False)"
   ]
  },
  {
   "cell_type": "code",
   "execution_count": null,
   "id": "06bb30a6-e149-494c-a1dd-696d6104e27e",
   "metadata": {},
   "outputs": [],
   "source": []
  }
 ],
 "metadata": {
  "kernelspec": {
   "display_name": "Python 3 (ipykernel)",
   "language": "python",
   "name": "python3"
  },
  "language_info": {
   "codemirror_mode": {
    "name": "ipython",
    "version": 3
   },
   "file_extension": ".py",
   "mimetype": "text/x-python",
   "name": "python",
   "nbconvert_exporter": "python",
   "pygments_lexer": "ipython3",
   "version": "3.12.7"
  }
 },
 "nbformat": 4,
 "nbformat_minor": 5
}
